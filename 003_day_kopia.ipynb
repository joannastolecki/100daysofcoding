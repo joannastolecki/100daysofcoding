{
 "cells": [
  {
   "cell_type": "code",
   "execution_count": null,
   "metadata": {},
   "outputs": [],
   "source": [
    "# control flow\n",
    "\n",
    "# condition \n",
    "\n",
    "\"\"\" \n",
    "if condition: \n",
    "    do this \n",
    "else:\n",
    "    do this  \"\"\"\n",
    "    \n",
    "    \n",
    "    "
   ]
  },
  {
   "cell_type": "code",
   "execution_count": 7,
   "metadata": {},
   "outputs": [
    {
     "name": "stdout",
     "output_type": "stream",
     "text": [
      "Welcome to rollercoaster\n",
      "you can not ride a roallercoaster\n"
     ]
    }
   ],
   "source": [
    "print(\"Welcome to rollercoaster\")\n",
    "heigh = int(input(\"What is your height in cm? \"))   # one = assigne ; ==  check equality >>> heigh == 120 \n",
    "\n",
    "if heigh >= 120:         # ==, != etc\n",
    "    print(\"you can ride a rollercoaster\")\n",
    "else:\n",
    "    print(\"you can not ride a roallercoaster\")\n",
    "    "
   ]
  },
  {
   "cell_type": "code",
   "execution_count": null,
   "metadata": {},
   "outputs": [],
   "source": [
    "# 🚨 Don't change the code below 👇\n",
    "number = int(input(\"Which number do you want to check? \"))\n",
    "# 🚨 Don't change the code above 👆\n",
    "\n",
    "#Write your code below this line 👇\n",
    "\n",
    "\n",
    "\n",
    "if number % 2 == 1:\n",
    "    print(\"This is an odd number.\")\n",
    "else:\n",
    "    print(\"This is an even number.\")"
   ]
  },
  {
   "cell_type": "code",
   "execution_count": null,
   "metadata": {},
   "outputs": [],
   "source": [
    "# nested if\n",
    "\n",
    "\"\"\"\n",
    "if condition: \n",
    "    if another condition: \n",
    "        do this \n",
    "    else:\n",
    "        do this  \n",
    "else:\n",
    "    do this  \n",
    "    \"\"\"\n"
   ]
  },
  {
   "cell_type": "code",
   "execution_count": 11,
   "metadata": {},
   "outputs": [
    {
     "name": "stdout",
     "output_type": "stream",
     "text": [
      "Welcome to rollercoaster\n",
      "you can ride a rollercoaster\n",
      "Please pay $12.\n"
     ]
    }
   ],
   "source": [
    "print(\"Welcome to rollercoaster\")\n",
    "heigh = int(input(\"What is your height in cm? \"))   # one = assigne ; ==  check equality >>> heigh == 120 \n",
    "\n",
    "if heigh >= 120:         # ==, != etc\n",
    "    print(\"you can ride a rollercoaster\")\n",
    "    age = int(input(\"What's your age?\"))\n",
    "    if age <= 12:\n",
    "        print(\"Please pay $5\" )\n",
    "    elif age <= 18:    \n",
    "        print(\"Please pay $7\" )\n",
    "    else:\n",
    "        print(\"Please pay $12.\")    \n",
    "\n",
    "else:\n",
    "    print(\"you can not ride a roallercoaster\")"
   ]
  },
  {
   "cell_type": "code",
   "execution_count": 16,
   "metadata": {},
   "outputs": [
    {
     "name": "stdout",
     "output_type": "stream",
     "text": [
      "Your BMI is 24, you have a normal weight.\n"
     ]
    }
   ],
   "source": [
    "# 🚨 Don't change the code below 👇\n",
    "height = float(input(\"enter your height in m: \"))\n",
    "weight = float(input(\"enter your weight in kg: \"))\n",
    "# 🚨 Don't change the code above 👆\n",
    "\n",
    "#height = 1.7\n",
    "#weight = 90\n",
    "\n",
    "#Write your code below this line 👇\n",
    "bmi = weight / (height ** 2)\n",
    "\n",
    "r_bmi = round(bmi)\n",
    "\n",
    "if r_bmi < 18.5:\n",
    "    print(f\"Your BMI is {r_bmi}, you are underweight\")\n",
    "elif r_bmi < 25:    \n",
    "    print(f\"Your BMI is {r_bmi}, you have a normal weight.\")\n",
    "elif r_bmi < 30:    \n",
    "    print(f\"Your BMI is {r_bmi}, you are slightly overweight.\")\n",
    "elif r_bmi < 35:    \n",
    "    print(f\"Your BMI is {r_bmi}, you are obese.\")        \n",
    "else:\n",
    "    print(f\"Your BMI is {r_bmi}, you are clinically obese.\")\n",
    "    "
   ]
  },
  {
   "cell_type": "code",
   "execution_count": 57,
   "metadata": {},
   "outputs": [
    {
     "name": "stdout",
     "output_type": "stream",
     "text": [
      "Rok jest rokiem przestępnym (ma 366 dni)\n"
     ]
    }
   ],
   "source": [
    "# a leap year - rok przestpeny, wyrownanie kalendarzy ; 365 / 366 dni\n",
    "\n",
    "# 🚨 Don't change the code below 👇\n",
    "# year = int(input(\"Which year do you want to check? \"))\n",
    "# 🚨 Don't change the code above 👆\n",
    "\n",
    "\n",
    "# sa przestepne: 1988, 1992 i 1996 / by 4\n",
    "\n",
    "\n",
    "#jezeli rok jest podziel przez 4 rownomie i podziel przez 400 to jest przestepny \n",
    "# nie sa przestepne: 1700, 1800, 1900, 2100, 2200, 2300, 2500, 2600; podzielne przez 100 ale nie przez 400\n",
    "\n",
    "# sa przez 400 i 100 \n",
    "#1600, 2000, 2400\n",
    "\n",
    "year = 2020\n",
    "#Write your code below this line 👇\n",
    "\n",
    "by_4 = year % 4\n",
    "by_100 = year % 100\n",
    "by_400 = year % 400\n",
    "\n",
    "\n",
    "if by_4 == 0:\n",
    "    if by_100 == 0:\n",
    "        if by_400 == 0:\n",
    "            print(\"Rok jest rokiem przestępnym (ma 366 dni)\")\n",
    "        else:\n",
    "            print(\"Rok nie jest rokiem przestępnym (ma 365 dni)\")    \n",
    "    else :\n",
    "        print(\"Rok jest rokiem przestępnym (ma 366 dni)\")\n",
    "            \n",
    "else:    \n",
    "    print(\"Rok nie jest rokiem przestępnym (ma 365 dni)\")\n",
    "    \n",
    "\n",
    "\n",
    "\n",
    "# Aby ustalić, czy rok jest rokiem przestępnym, wykonaj następujące kroki:\n",
    "# 1 Jeśli rok jest równomiernie podzielny przez 4, przejdź do kroku 2. Jeśli nie, przejdź do kroku 5.\n",
    "# 2 Jeśli rok jest równomiernie podzielny przez 100, przejdź do kroku 3. Jeśli nie, przejdź do kroku 4.\n",
    "# 3 Jeśli rok jest równomiernie podzielny przez 400, przejdź do kroku 4. Jeśli nie, przejdź do kroku 5.\n",
    "# 4 Rok jest rokiem przestępnym (ma 366 dni).\n",
    "# 5 Rok nie jest rokiem przestępnym (ma 365 dni).\n",
    "\n"
   ]
  },
  {
   "cell_type": "code",
   "execution_count": null,
   "metadata": {},
   "outputs": [],
   "source": []
  },
  {
   "cell_type": "code",
   "execution_count": 32,
   "metadata": {},
   "outputs": [
    {
     "data": {
      "text/plain": [
       "0"
      ]
     },
     "execution_count": 32,
     "metadata": {},
     "output_type": "execute_result"
    }
   ],
   "source": []
  },
  {
   "cell_type": "code",
   "execution_count": 58,
   "metadata": {},
   "outputs": [
    {
     "name": "stdout",
     "output_type": "stream",
     "text": [
      "Leap year.\n"
     ]
    }
   ],
   "source": [
    "\n",
    "# 🚨 Don't change the code below 👇\n",
    "year = int(input(\"Which year do you want to check? \"))\n",
    "# 🚨 Don't change the code above 👆\n",
    "\n",
    "by_4 = year % 4\n",
    "by_100 = year % 100\n",
    "by_400 = year % 400\n",
    "\n",
    "\n",
    "if by_4 == 0:\n",
    "    if by_100 == 0:\n",
    "        if by_400 == 0:\n",
    "            print(\"Leap year.\")\n",
    "        else:\n",
    "            print(\"Not leap year.\")    \n",
    "    else :\n",
    "        print(\"Leap year.\")\n",
    "            \n",
    "else:    \n",
    "    print(\"Not leap year.\")\n",
    "    \n"
   ]
  }
 ],
 "metadata": {
  "kernelspec": {
   "display_name": "Python 3",
   "language": "python",
   "name": "python3"
  },
  "language_info": {
   "codemirror_mode": {
    "name": "ipython",
    "version": 3
   },
   "file_extension": ".py",
   "mimetype": "text/x-python",
   "name": "python",
   "nbconvert_exporter": "python",
   "pygments_lexer": "ipython3",
   "version": "3.10.8"
  },
  "orig_nbformat": 4
 },
 "nbformat": 4,
 "nbformat_minor": 2
}
