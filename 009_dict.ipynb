{
 "cells": [
  {
   "cell_type": "code",
   "execution_count": 6,
   "metadata": {},
   "outputs": [
    {
     "name": "stdout",
     "output_type": "stream",
     "text": [
      "{'Bug': 'An error in a program that prevents the program from running as expected.', 'Function': 'A piece of code that you can easily call over and over again.'}\n"
     ]
    }
   ],
   "source": [
    "programming_dictionary = {\n",
    "    \"Bug\": \"An error in a program that prevents the program from running as expected.\", \n",
    "    \"Function\": \"A piece of code that you can easily call over and over again.\"\n",
    "    \n",
    " }\n",
    "print(programming_dictionary)\n"
   ]
  },
  {
   "cell_type": "code",
   "execution_count": 3,
   "metadata": {},
   "outputs": [
    {
     "name": "stdout",
     "output_type": "stream",
     "text": [
      "An error in a program that prevents the program from running as expected.\n"
     ]
    }
   ],
   "source": [
    "# how to retrive = display Value of bug \n",
    "print(programming_dictionary[\"Bug\"]) # KEY"
   ]
  },
  {
   "cell_type": "code",
   "execution_count": 10,
   "metadata": {},
   "outputs": [
    {
     "name": "stdout",
     "output_type": "stream",
     "text": [
      "{'Bug': 'An error in a program that prevents the program from running as expected.', 'Function': 'A piece of code that you can easily call over and over again.', 'Loop': 'The action of doing something over and over again.'}\n"
     ]
    }
   ],
   "source": [
    "# ADDING new item \n",
    "\n",
    "programming_dictionary[\"Loop\"]= \"The action of doing something over and over again.\"\n",
    "print(programming_dictionary)"
   ]
  },
  {
   "cell_type": "code",
   "execution_count": 11,
   "metadata": {},
   "outputs": [
    {
     "name": "stdout",
     "output_type": "stream",
     "text": [
      "{'Loop': 'The action of doing something over and over again.'}\n"
     ]
    }
   ],
   "source": [
    "empty = {} # empty dic dodanie\n",
    "# wypelannianie\n",
    "empty[\"Loop\"]= \"The action of doing something over and over again.\"\n",
    "print(empty)"
   ]
  },
  {
   "cell_type": "code",
   "execution_count": 12,
   "metadata": {},
   "outputs": [
    {
     "name": "stdout",
     "output_type": "stream",
     "text": [
      "{'Loop': 'ala ma kota'}\n"
     ]
    }
   ],
   "source": [
    "empty[\"Loop\"] = \"ala ma kota\"\n",
    "print(empty)"
   ]
  },
  {
   "cell_type": "code",
   "execution_count": 18,
   "metadata": {},
   "outputs": [
    {
     "name": "stdout",
     "output_type": "stream",
     "text": [
      "Bug\n",
      "An error in a program that prevents the program from running as expected.\n",
      "Function\n",
      "A piece of code that you can easily call over and over again.\n",
      "Loop\n",
      "The action of doing something over and over again.\n"
     ]
    }
   ],
   "source": [
    "# Loop through a dictionari \n",
    "\n",
    "for key in programming_dictionary:\n",
    "    print(key) # drukuje klucz\n",
    "    print(programming_dictionary[key]) # drukuje wartosc klucza danego\n"
   ]
  },
  {
   "cell_type": "code",
   "execution_count": null,
   "metadata": {},
   "outputs": [],
   "source": [
    "#tak tez mozna nesting wykrzystac \n",
    "[\"a\",\"b\",[\"c\",\"d\"]]\n",
    "\n",
    "# Nesting \n",
    "\n",
    "capitals = {\n",
    "    \"France\":\"Paris\",\n",
    "    \"Germany\":\"Berlin\"\n",
    "}\n",
    "\n",
    "#Nesting a List in a Dictionary \n",
    "# we Francji bylam w kilku miastach, tylko tak moge to zapisac i skorzystac z listy\n",
    "travel_log = {\n",
    "    \"France\": [\"Paris\",\"Lille\",\"Dijon\"],    #value is a list\n",
    "    \"Germany\": [\"Berlin\",\"Hamburg\",\"Stuttgart\"]\n",
    "    \n",
    "}\n",
    "\n",
    "\n",
    "\n",
    "\n"
   ]
  },
  {
   "cell_type": "code",
   "execution_count": 19,
   "metadata": {},
   "outputs": [],
   "source": [
    "# dodanie labelki cities_visited, trzeba dodac tez {zeby bylo widac ze to jedna wartosc dla France}\n",
    "travel_log = {\n",
    "    \"France\": {\"cities_visited\":[\"Paris\",\"Lille\",\"Dijon\"],\"total_visits\":12},    #value is a list\n",
    "    \"Germany\": [\"Berlin\",\"Hamburg\",\"Stuttgart\"]\n",
    "}    \n"
   ]
  },
  {
   "cell_type": "code",
   "execution_count": null,
   "metadata": {},
   "outputs": [],
   "source": [
    "# nesting dic in a List \n",
    "# mamy 2 dict i zamieniamy to na liste\n",
    "travel_log = [\n",
    "    {\n",
    "        \"country\": \"France\", \n",
    "        \"cities_visited\":[\"Paris\",\"Lille\",\"Dijon\"],\n",
    "        \"total_visits\":12},    #value is a list\n",
    "    {\n",
    "        \"country\": \"German\", \n",
    "        \"cities_visited\":[\"Berlin\",\"Hamburg\",\"Stuttgart\"],\n",
    "        \"total_visits\":5},\n",
    "] \n",
    "\n"
   ]
  },
  {
   "cell_type": "code",
   "execution_count": null,
   "metadata": {},
   "outputs": [],
   "source": []
  }
 ],
 "metadata": {
  "kernelspec": {
   "display_name": "Python 3",
   "language": "python",
   "name": "python3"
  },
  "language_info": {
   "codemirror_mode": {
    "name": "ipython",
    "version": 3
   },
   "file_extension": ".py",
   "mimetype": "text/x-python",
   "name": "python",
   "nbconvert_exporter": "python",
   "pygments_lexer": "ipython3",
   "version": "3.10.8"
  },
  "orig_nbformat": 4
 },
 "nbformat": 4,
 "nbformat_minor": 2
}
