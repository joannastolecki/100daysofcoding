{
 "cells": [
  {
   "cell_type": "code",
   "execution_count": null,
   "metadata": {},
   "outputs": [],
   "source": [
    "# control flow\n",
    "\n",
    "# condition \n",
    "\n",
    "\"\"\" \n",
    "if condition: \n",
    "    do this \n",
    "else:\n",
    "    do this  \"\"\"\n",
    "    \n",
    "    \n",
    "    "
   ]
  },
  {
   "cell_type": "code",
   "execution_count": 7,
   "metadata": {},
   "outputs": [
    {
     "name": "stdout",
     "output_type": "stream",
     "text": [
      "Welcome to rollercoaster\n",
      "you can not ride a roallercoaster\n"
     ]
    }
   ],
   "source": [
    "print(\"Welcome to rollercoaster\")\n",
    "heigh = int(input(\"What is your height in cm? \"))   # one = assigne ; ==  check equality >>> heigh == 120 \n",
    "\n",
    "if heigh >= 120:         # ==, != etc\n",
    "    print(\"you can ride a rollercoaster\")\n",
    "else:\n",
    "    print(\"you can not ride a roallercoaster\")\n",
    "    "
   ]
  },
  {
   "cell_type": "code",
   "execution_count": null,
   "metadata": {},
   "outputs": [],
   "source": [
    "# 🚨 Don't change the code below 👇\n",
    "number = int(input(\"Which number do you want to check? \"))\n",
    "# 🚨 Don't change the code above 👆\n",
    "\n",
    "#Write your code below this line 👇\n",
    "\n",
    "\n",
    "\n",
    "if number % 2 == 1:\n",
    "    print(\"This is an odd number.\")\n",
    "else:\n",
    "    print(\"This is an even number.\")"
   ]
  },
  {
   "cell_type": "code",
   "execution_count": null,
   "metadata": {},
   "outputs": [],
   "source": [
    "# nested if\n",
    "\n",
    "\"\"\"\n",
    "if condition: \n",
    "    if another condition: \n",
    "        do this \n",
    "    else:\n",
    "        do this  \n",
    "else:\n",
    "    do this  \n",
    "    \"\"\"\n"
   ]
  },
  {
   "cell_type": "code",
   "execution_count": 11,
   "metadata": {},
   "outputs": [
    {
     "name": "stdout",
     "output_type": "stream",
     "text": [
      "Welcome to rollercoaster\n",
      "you can ride a rollercoaster\n",
      "Please pay $12.\n"
     ]
    }
   ],
   "source": [
    "print(\"Welcome to rollercoaster\")\n",
    "heigh = int(input(\"What is your height in cm? \"))   # one = assigne ; ==  check equality >>> heigh == 120 \n",
    "\n",
    "if heigh >= 120:         # ==, != etc\n",
    "    print(\"you can ride a rollercoaster\")\n",
    "    age = int(input(\"What's your age?\"))\n",
    "    if age <= 12:\n",
    "        print(\"Please pay $5\" )\n",
    "    elif age <= 18:    \n",
    "        print(\"Please pay $7\" )\n",
    "    else:\n",
    "        print(\"Please pay $12.\")    \n",
    "\n",
    "else:\n",
    "    print(\"you can not ride a roallercoaster\")"
   ]
  },
  {
   "cell_type": "code",
   "execution_count": null,
   "metadata": {},
   "outputs": [],
   "source": []
  },
  {
   "cell_type": "code",
   "execution_count": null,
   "metadata": {},
   "outputs": [],
   "source": []
  },
  {
   "cell_type": "code",
   "execution_count": null,
   "metadata": {},
   "outputs": [],
   "source": []
  }
 ],
 "metadata": {
  "kernelspec": {
   "display_name": "Python 3",
   "language": "python",
   "name": "python3"
  },
  "language_info": {
   "codemirror_mode": {
    "name": "ipython",
    "version": 3
   },
   "file_extension": ".py",
   "mimetype": "text/x-python",
   "name": "python",
   "nbconvert_exporter": "python",
   "pygments_lexer": "ipython3",
   "version": "3.10.8"
  },
  "orig_nbformat": 4
 },
 "nbformat": 4,
 "nbformat_minor": 2
}
