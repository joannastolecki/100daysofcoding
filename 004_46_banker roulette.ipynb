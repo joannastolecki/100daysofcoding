{
 "cells": [
  {
   "cell_type": "code",
   "execution_count": 33,
   "metadata": {},
   "outputs": [
    {
     "name": "stdout",
     "output_type": "stream",
     "text": [
      "['Angela', 'Ben', 'Jenny', 'Michael', 'Chloe']\n",
      "Chloe is going to pay the meal today!\n"
     ]
    }
   ],
   "source": [
    "import random\n",
    "\n",
    "names_string = \"Angela Ben Jenny Michael Chloe\"\n",
    "names = names_string.split()\n",
    "\n",
    "print(names)\n",
    "item_num = len(names)\n",
    "item_num\n",
    "\n",
    "random_choice = random.randint(0,item_num-1)\n",
    "#print(random_choice)\n",
    "\n",
    "# pick out random person from lsit of names using the random number\n",
    "person_who_will_pay = names[random_choice]\n",
    "\n",
    "print(person_who_will_pay + \" is going to pay the meal today!\")"
   ]
  },
  {
   "cell_type": "code",
   "execution_count": 35,
   "metadata": {},
   "outputs": [
    {
     "name": "stdout",
     "output_type": "stream",
     "text": [
      "[['truskawki', 'nektarynki', 'jablka'], ['pomidory', 'salata']]\n"
     ]
    }
   ],
   "source": [
    "# dwie listy w sobie \n",
    "\n",
    "fruits = [\"truskawki\",\"nektarynki\",\"jablka\"]\n",
    "vege = [\"pomidory\", \"salata\"]\n",
    "\n",
    "listy_polaczone = [fruits,vege]\n",
    "\n",
    "print(listy_polaczone)"
   ]
  },
  {
   "cell_type": "code",
   "execution_count": 37,
   "metadata": {},
   "outputs": [
    {
     "name": "stdout",
     "output_type": "stream",
     "text": [
      "Kale\n"
     ]
    }
   ],
   "source": [
    "fruits = [\"Strawberries\", \"Nectarines\", \"Apples\", \"Grapes\", \"Peaches\", \"Cherries\", \"Pears\"]\n",
    "vegetables = [\"Spinach\", \"Kale\", \"Tomatoes\", \"Celery\", \"Potatoes\"]\n",
    " \n",
    "dirty_dozen = [fruits, vegetables]\n",
    " \n",
    "print(dirty_dozen[1][1])"
   ]
  }
 ],
 "metadata": {
  "kernelspec": {
   "display_name": "Python 3",
   "language": "python",
   "name": "python3"
  },
  "language_info": {
   "codemirror_mode": {
    "name": "ipython",
    "version": 3
   },
   "file_extension": ".py",
   "mimetype": "text/x-python",
   "name": "python",
   "nbconvert_exporter": "python",
   "pygments_lexer": "ipython3",
   "version": "3.10.8"
  },
  "orig_nbformat": 4
 },
 "nbformat": 4,
 "nbformat_minor": 2
}
