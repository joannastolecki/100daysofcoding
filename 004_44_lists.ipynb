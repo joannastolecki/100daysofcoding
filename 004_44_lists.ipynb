{
 "cells": [
  {
   "cell_type": "code",
   "execution_count": 2,
   "metadata": {},
   "outputs": [
    {
     "name": "stdout",
     "output_type": "stream",
     "text": [
      "Dalaware\n"
     ]
    }
   ],
   "source": [
    "# lists = [item, item2]\n",
    "\n",
    "# list data structure\n",
    "\n",
    "states = [\"Dalaware\",\"Pennsylbania\",\"New Jeyres\"]\n",
    "\n",
    "# order is in the list \n",
    "\n",
    "\n",
    "print(states[0])\n",
    "\n"
   ]
  },
  {
   "cell_type": "code",
   "execution_count": 7,
   "metadata": {},
   "outputs": [
    {
     "data": {
      "text/plain": [
       "'Pennsylbania'"
      ]
     },
     "execution_count": 7,
     "metadata": {},
     "output_type": "execute_result"
    }
   ],
   "source": [
    "# states[index]\n",
    "#states[2]\n",
    "states[-2] # od tylu"
   ]
  },
  {
   "cell_type": "code",
   "execution_count": 11,
   "metadata": {},
   "outputs": [
    {
     "name": "stdout",
     "output_type": "stream",
     "text": [
      "['Dalaware', 'ala ma kota', 'New Jeyres', 'aaaa']\n"
     ]
    }
   ],
   "source": [
    "states[1] = \"ala ma kota\" # przypisanie nowej wartosci\n",
    "\n",
    "states.append( \"aaaa\") # dodanie na koncu \n",
    "\n",
    "print(states)"
   ]
  },
  {
   "cell_type": "code",
   "execution_count": null,
   "metadata": {},
   "outputs": [],
   "source": []
  }
 ],
 "metadata": {
  "kernelspec": {
   "display_name": "Python 3",
   "language": "python",
   "name": "python3"
  },
  "language_info": {
   "codemirror_mode": {
    "name": "ipython",
    "version": 3
   },
   "file_extension": ".py",
   "mimetype": "text/x-python",
   "name": "python",
   "nbconvert_exporter": "python",
   "pygments_lexer": "ipython3",
   "version": "3.10.8"
  },
  "orig_nbformat": 4
 },
 "nbformat": 4,
 "nbformat_minor": 2
}
