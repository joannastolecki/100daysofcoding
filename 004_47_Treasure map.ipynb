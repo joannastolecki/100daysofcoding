{
 "cells": [
  {
   "cell_type": "code",
   "execution_count": 18,
   "metadata": {},
   "outputs": [
    {
     "name": "stdout",
     "output_type": "stream",
     "text": [
      "Hiding your treasure! X marks the spot.\n",
      "Letter:  b\n",
      "number:  3\n",
      "abc: ['a', 'b', 'c']\n",
      "Letter_index: 1\n",
      "Number index: 2\n",
      "['⬜️', '️⬜️', '️⬜️']\n",
      "['⬜️', '⬜️', '️⬜️']\n",
      "['⬜️️', 'X', '⬜️️']\n"
     ]
    }
   ],
   "source": [
    "line1 = [\"⬜️\",\"️⬜️\",\"️⬜️\"]\n",
    "line2 = [\"⬜️\",\"⬜️\",\"️⬜️\"]\n",
    "line3 = [\"⬜️️\",\"⬜️️\",\"⬜️️\"]\n",
    "map = [line1, line2, line3]\n",
    "print(\"Hiding your treasure! X marks the spot.\")\n",
    "position = input() # Where do you want to put the treasure?\n",
    "# 🚨 Don't change the code above 👆\n",
    "# Write your code below this row 👇\n",
    "\n",
    "letter = position[0].lower()\n",
    "print('Letter: ',letter) \n",
    "print('number: ', position[1])\n",
    "\n",
    "abc = ['a','b','c']\n",
    "print(f'abc: {abc}')\n",
    "\n",
    "\n",
    "letter_index = abc.index(letter)  # w str abc szukam litery C np. i podaje index\n",
    "print(f'Letter_index: {letter_index}')\n",
    "\n",
    "number_index = int(position[1]) - 1 #tu patrze index dla liczby, -1 bo przesuniecie w tablicy\n",
    "\n",
    "print(f'Number index: {number_index}')\n",
    "\n",
    "map[number_index][letter_index] = \"X\" # wstawianie X\n",
    "\n",
    "\n",
    "\n",
    "# Write your code above this row 👆\n",
    "# 🚨 Don't change the code below 👇\n",
    "print(f\"{line1}\\n{line2}\\n{line3}\")"
   ]
  },
  {
   "cell_type": "code",
   "execution_count": null,
   "metadata": {},
   "outputs": [],
   "source": []
  }
 ],
 "metadata": {
  "kernelspec": {
   "display_name": "Python 3",
   "language": "python",
   "name": "python3"
  },
  "language_info": {
   "codemirror_mode": {
    "name": "ipython",
    "version": 3
   },
   "file_extension": ".py",
   "mimetype": "text/x-python",
   "name": "python",
   "nbconvert_exporter": "python",
   "pygments_lexer": "ipython3",
   "version": "3.10.8"
  },
  "orig_nbformat": 4
 },
 "nbformat": 4,
 "nbformat_minor": 2
}
