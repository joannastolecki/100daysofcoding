{
 "cells": [
  {
   "cell_type": "code",
   "execution_count": 17,
   "metadata": {},
   "outputs": [],
   "source": [
    "rock = '''\n",
    "    _______\n",
    "---'   ____)\n",
    "      (_____)\n",
    "      (_____)\n",
    "      (____)\n",
    "---.__(___)\n",
    "'''\n",
    "\n",
    "paper = '''\n",
    "    _______\n",
    "---'   ____)____\n",
    "          ______)\n",
    "          _______)\n",
    "         _______)\n",
    "---.__________)\n",
    "'''\n",
    "\n",
    "scissors = '''\n",
    "    _______\n",
    "---'   ____)____\n",
    "          ______)\n",
    "       __________)\n",
    "      (____)\n",
    "---.__(___)\n",
    "'''\n",
    "\n",
    "#Write your code below this line 👇\n",
    "\n",
    "\n"
   ]
  },
  {
   "cell_type": "code",
   "execution_count": 26,
   "metadata": {},
   "outputs": [
    {
     "name": "stdout",
     "output_type": "stream",
     "text": [
      "You chose: 2\n",
      "\n",
      "    _______\n",
      "---'   ____)____\n",
      "          ______)\n",
      "       __________)\n",
      "      (____)\n",
      "---.__(___)\n",
      "\n",
      "Computer chose:  1\n",
      "\n",
      "    _______\n",
      "---'   ____)____\n",
      "          ______)\n",
      "          _______)\n",
      "         _______)\n",
      "---.__________)\n",
      "\n",
      "I win\n"
     ]
    }
   ],
   "source": [
    "import random \n",
    "\n",
    "choices=[rock, paper, scissors]\n",
    "\n",
    "person_int = int(input(\"What do you choose? Type 0 for rock, 1 for Paper or 2 for scisors\"))\n",
    "\n",
    "print(f'You chose: {person_int}')\n",
    "\n",
    "print(choices[person_int])\n",
    "\n",
    "computer_choose = random.randint(0,2)\n",
    "print(f'Computer chose:  {computer_choose}')\n",
    "print(choices[computer_choose])\n",
    "\n",
    "if person_int >= 3 or person_int<0:\n",
    "    print(\"Wrong number\")       \n",
    "elif person_int == 0 and computer_choose == 2:\n",
    "    print('You win')\n",
    "elif computer_choose == 0 and person_int == 2:\n",
    "    print(\"You lose\")    \n",
    "elif computer_choose > person_int:\n",
    "    print('You lose')\n",
    "elif person_int>computer_choose:\n",
    "    print(\"I win\")    \n",
    "elif computer_choose == person_int:\n",
    "    print(\"It's a draw\")    \n",
    "\n"
   ]
  }
 ],
 "metadata": {
  "kernelspec": {
   "display_name": "Python 3",
   "language": "python",
   "name": "python3"
  },
  "language_info": {
   "codemirror_mode": {
    "name": "ipython",
    "version": 3
   },
   "file_extension": ".py",
   "mimetype": "text/x-python",
   "name": "python",
   "nbconvert_exporter": "python",
   "pygments_lexer": "ipython3",
   "version": "3.10.8"
  },
  "orig_nbformat": 4
 },
 "nbformat": 4,
 "nbformat_minor": 2
}
