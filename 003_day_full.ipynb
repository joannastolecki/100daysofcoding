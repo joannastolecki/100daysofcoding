{
 "cells": [
  {
   "cell_type": "code",
   "execution_count": null,
   "metadata": {},
   "outputs": [],
   "source": [
    "# control flow\n",
    "\n",
    "# condition \n",
    "\n",
    "\"\"\" \n",
    "if condition: \n",
    "    do this \n",
    "else:\n",
    "    do this  \"\"\"\n",
    "    \n",
    "    \n",
    "    "
   ]
  },
  {
   "cell_type": "code",
   "execution_count": 7,
   "metadata": {},
   "outputs": [
    {
     "name": "stdout",
     "output_type": "stream",
     "text": [
      "Welcome to rollercoaster\n",
      "you can not ride a roallercoaster\n"
     ]
    }
   ],
   "source": [
    "print(\"Welcome to rollercoaster\")\n",
    "heigh = int(input(\"What is your height in cm? \"))   # one = assigne ; ==  check equality >>> heigh == 120 \n",
    "\n",
    "if heigh >= 120:         # ==, != etc\n",
    "    print(\"you can ride a rollercoaster\")\n",
    "else:\n",
    "    print(\"you can not ride a roallercoaster\")\n",
    "    "
   ]
  },
  {
   "cell_type": "code",
   "execution_count": null,
   "metadata": {},
   "outputs": [],
   "source": [
    "# 🚨 Don't change the code below 👇\n",
    "number = int(input(\"Which number do you want to check? \"))\n",
    "# 🚨 Don't change the code above 👆\n",
    "\n",
    "#Write your code below this line 👇\n",
    "\n",
    "\n",
    "\n",
    "if number % 2 == 1:\n",
    "    print(\"This is an odd number.\")\n",
    "else:\n",
    "    print(\"This is an even number.\")"
   ]
  },
  {
   "cell_type": "code",
   "execution_count": null,
   "metadata": {},
   "outputs": [],
   "source": [
    "# nested if\n",
    "\n",
    "\"\"\"\n",
    "if condition: \n",
    "    if another condition: \n",
    "        do this \n",
    "    else:\n",
    "        do this  \n",
    "else:\n",
    "    do this  \n",
    "    \"\"\"\n"
   ]
  },
  {
   "cell_type": "code",
   "execution_count": 11,
   "metadata": {},
   "outputs": [
    {
     "name": "stdout",
     "output_type": "stream",
     "text": [
      "Welcome to rollercoaster\n",
      "you can ride a rollercoaster\n",
      "Please pay $12.\n"
     ]
    }
   ],
   "source": [
    "print(\"Welcome to rollercoaster\")\n",
    "heigh = int(input(\"What is your height in cm? \"))   # one = assigne ; ==  check equality >>> heigh == 120 \n",
    "\n",
    "if heigh >= 120:         # ==, != etc\n",
    "    print(\"you can ride a rollercoaster\")\n",
    "    age = int(input(\"What's your age?\"))\n",
    "    if age <= 12:\n",
    "        print(\"Please pay $5\" )\n",
    "    elif age <= 18:    \n",
    "        print(\"Please pay $7\" )\n",
    "    else:\n",
    "        print(\"Please pay $12.\")    \n",
    "\n",
    "else:\n",
    "    print(\"you can not ride a roallercoaster\")"
   ]
  },
  {
   "cell_type": "code",
   "execution_count": 16,
   "metadata": {},
   "outputs": [
    {
     "name": "stdout",
     "output_type": "stream",
     "text": [
      "Your BMI is 24, you have a normal weight.\n"
     ]
    }
   ],
   "source": [
    "# 🚨 Don't change the code below 👇\n",
    "height = float(input(\"enter your height in m: \"))\n",
    "weight = float(input(\"enter your weight in kg: \"))\n",
    "# 🚨 Don't change the code above 👆\n",
    "\n",
    "#height = 1.7\n",
    "#weight = 90\n",
    "\n",
    "#Write your code below this line 👇\n",
    "bmi = weight / (height ** 2)\n",
    "\n",
    "r_bmi = round(bmi)\n",
    "\n",
    "if r_bmi < 18.5:\n",
    "    print(f\"Your BMI is {r_bmi}, you are underweight\")\n",
    "elif r_bmi < 25:    \n",
    "    print(f\"Your BMI is {r_bmi}, you have a normal weight.\")\n",
    "elif r_bmi < 30:    \n",
    "    print(f\"Your BMI is {r_bmi}, you are slightly overweight.\")\n",
    "elif r_bmi < 35:    \n",
    "    print(f\"Your BMI is {r_bmi}, you are obese.\")        \n",
    "else:\n",
    "    print(f\"Your BMI is {r_bmi}, you are clinically obese.\")\n",
    "    "
   ]
  },
  {
   "cell_type": "code",
   "execution_count": 57,
   "metadata": {},
   "outputs": [
    {
     "name": "stdout",
     "output_type": "stream",
     "text": [
      "Rok jest rokiem przestępnym (ma 366 dni)\n"
     ]
    }
   ],
   "source": [
    "# a leap year - rok przestpeny, wyrownanie kalendarzy ; 365 / 366 dni\n",
    "\n",
    "# 🚨 Don't change the code below 👇\n",
    "# year = int(input(\"Which year do you want to check? \"))\n",
    "# 🚨 Don't change the code above 👆\n",
    "\n",
    "\n",
    "# sa przestepne: 1988, 1992 i 1996 / by 4\n",
    "\n",
    "\n",
    "#jezeli rok jest podziel przez 4 rownomie i podziel przez 400 to jest przestepny \n",
    "# nie sa przestepne: 1700, 1800, 1900, 2100, 2200, 2300, 2500, 2600; podzielne przez 100 ale nie przez 400\n",
    "\n",
    "# sa przez 400 i 100 \n",
    "#1600, 2000, 2400\n",
    "\n",
    "year = 2020\n",
    "#Write your code below this line 👇\n",
    "\n",
    "by_4 = year % 4\n",
    "by_100 = year % 100\n",
    "by_400 = year % 400\n",
    "\n",
    "\n",
    "if by_4 == 0:\n",
    "    if by_100 == 0:\n",
    "        if by_400 == 0:\n",
    "            print(\"Rok jest rokiem przestępnym (ma 366 dni)\")\n",
    "        else:\n",
    "            print(\"Rok nie jest rokiem przestępnym (ma 365 dni)\")    \n",
    "    else :\n",
    "        print(\"Rok jest rokiem przestępnym (ma 366 dni)\")\n",
    "            \n",
    "else:    \n",
    "    print(\"Rok nie jest rokiem przestępnym (ma 365 dni)\")\n",
    "    \n",
    "\n",
    "\n",
    "\n",
    "# Aby ustalić, czy rok jest rokiem przestępnym, wykonaj następujące kroki:\n",
    "# 1 Jeśli rok jest równomiernie podzielny przez 4, przejdź do kroku 2. Jeśli nie, przejdź do kroku 5.\n",
    "# 2 Jeśli rok jest równomiernie podzielny przez 100, przejdź do kroku 3. Jeśli nie, przejdź do kroku 4.\n",
    "# 3 Jeśli rok jest równomiernie podzielny przez 400, przejdź do kroku 4. Jeśli nie, przejdź do kroku 5.\n",
    "# 4 Rok jest rokiem przestępnym (ma 366 dni).\n",
    "# 5 Rok nie jest rokiem przestępnym (ma 365 dni).\n",
    "\n"
   ]
  },
  {
   "cell_type": "code",
   "execution_count": null,
   "metadata": {},
   "outputs": [],
   "source": []
  },
  {
   "cell_type": "code",
   "execution_count": 32,
   "metadata": {},
   "outputs": [
    {
     "data": {
      "text/plain": [
       "0"
      ]
     },
     "execution_count": 32,
     "metadata": {},
     "output_type": "execute_result"
    }
   ],
   "source": []
  },
  {
   "cell_type": "code",
   "execution_count": 58,
   "metadata": {},
   "outputs": [
    {
     "name": "stdout",
     "output_type": "stream",
     "text": [
      "Leap year.\n"
     ]
    }
   ],
   "source": [
    "\n",
    "# 🚨 Don't change the code below 👇\n",
    "year = int(input(\"Which year do you want to check? \"))\n",
    "# 🚨 Don't change the code above 👆\n",
    "\n",
    "by_4 = year % 4\n",
    "by_100 = year % 100\n",
    "by_400 = year % 400\n",
    "\n",
    "\n",
    "if by_4 == 0:\n",
    "    if by_100 == 0:\n",
    "        if by_400 == 0:\n",
    "            print(\"Leap year.\")\n",
    "        else:\n",
    "            print(\"Not leap year.\")    \n",
    "    else :\n",
    "        print(\"Leap year.\")\n",
    "            \n",
    "else:    \n",
    "    print(\"Not leap year.\")\n",
    "    \n"
   ]
  },
  {
   "cell_type": "code",
   "execution_count": 3,
   "metadata": {},
   "outputs": [
    {
     "name": "stdout",
     "output_type": "stream",
     "text": [
      "Welcome to rollercoaster\n",
      "you can ride a rollercoaster\n",
      "Youth tickets are $7\n",
      "Your final bill is $10\n"
     ]
    }
   ],
   "source": [
    "print(\"Welcome to rollercoaster\")\n",
    "heigh = int(input(\"What is your height in cm? \"))   # one = assigne ; ==  check equality >>> heigh == 120 \n",
    "\n",
    "bill = 0\n",
    "if heigh >= 120:         # ==, != etc\n",
    "    print(\"you can ride a rollercoaster\")\n",
    "    age = int(input(\"What's your age?\"))\n",
    "    if age <= 12:\n",
    "        bill = 5\n",
    "        print(\"Child tickets are $5\" )\n",
    "    elif age <= 18:    \n",
    "        bill = 7\n",
    "        print(\"Youth tickets are $7\" )\n",
    "    else:\n",
    "        bill = 12\n",
    "        print(\"Adults tickets are $12.\")    \n",
    "        \n",
    "    want_photos = input(\"If you want some photos taken: Y or N\")\n",
    "    \n",
    "    if want_photos.upper() == 'Y':\n",
    "        # bill = bill + 3 or bill += 3\n",
    "        bill +=3\n",
    "    print(f\"Your final bill is ${bill}\")   \n",
    "\n",
    "else:\n",
    "    print(\"you can not ride a roallercoaster\")"
   ]
  },
  {
   "cell_type": "code",
   "execution_count": 15,
   "metadata": {},
   "outputs": [
    {
     "name": "stdout",
     "output_type": "stream",
     "text": [
      "Welcome to Python Pizza Deliveries!\n"
     ]
    },
    {
     "name": "stdout",
     "output_type": "stream",
     "text": [
      "Your final bill is: $ 17\n"
     ]
    }
   ],
   "source": [
    "# pizza order \n",
    "\n",
    "\n",
    "\n",
    "# Small Pizza: $15\n",
    "# Medium Pizza: $20\n",
    "# Large Pizza: $25\n",
    "# Pepperoni for Small Pizza: +$2\n",
    "# Pepperoni for Medium or Large Pizza: +$3\n",
    "# Extra cheese for any size pizza: + $1\n",
    "\n",
    "# 🚨 Don't change the code below 👇\n",
    "print(\"Welcome to Python Pizza Deliveries!\")\n",
    "size = input(\"What size pizza do you want? S, M, or L \")\n",
    "add_pepperoni = input(\"Do you want pepperoni? Y or N \")\n",
    "extra_cheese = input(\"Do you want extra cheese? Y or N \")\n",
    "# 🚨 Don't change the code above 👆\n",
    "\n",
    "#Write your code below this line 👇\n",
    "\n",
    "total_bill = 0 \n",
    "\n",
    "\n",
    "\n",
    "if size == 'S':\n",
    "    total_bill += 15\n",
    "    if add_pepperoni == 'Y':\n",
    "        total_bill += 2\n",
    "    else:\n",
    "        total_bill +=0\n",
    "elif size=='M':\n",
    "    total_bill += 20\n",
    "    if add_pepperoni == 'Y':\n",
    "        total_bill += 3\n",
    "    else:\n",
    "        total_bill +=0                   \n",
    "else:\n",
    "    total_bill += 25\n",
    "    if add_pepperoni == 'Y':\n",
    "        total_bill += 3\n",
    "    else:\n",
    "        total_bill +=0      \n",
    "    \n",
    "if extra_cheese == 'Y':\n",
    "    total_bill +=1\n",
    "else:\n",
    "    total_bill +=0\n",
    "    \n",
    "\n",
    "final = f\"Your final bill is: $ {total_bill}\"\n",
    "print(final)"
   ]
  },
  {
   "cell_type": "markdown",
   "metadata": {},
   "source": [
    "#Logical operators \n",
    "\n",
    "ADDING MIDLIFE CRISIS"
   ]
  },
  {
   "cell_type": "code",
   "execution_count": null,
   "metadata": {},
   "outputs": [],
   "source": [
    "print(\"Welcome to rollercoaster\")\n",
    "heigh = int(input(\"What is your height in cm? \"))   # one = assigne ; ==  check equality >>> heigh == 120 \n",
    "\n",
    "bill = 0\n",
    "if heigh >= 120:         # ==, != etc\n",
    "    print(\"you can ride a rollercoaster\")\n",
    "    age = int(input(\"What's your age?\"))\n",
    "    if age <= 12:\n",
    "        bill = 5\n",
    "        print(\"Child tickets are $5\" )\n",
    "    elif age <= 18:    \n",
    "        bill = 7\n",
    "        print(\"Youth tickets are $7\" )\n",
    "    elif age >= 45 and age <= 55:    \n",
    "        bill = 0\n",
    "        print(\"Everything is going to be ok. Have a great time\" )    \n",
    "    else:\n",
    "        bill = 12\n",
    "        print(\"Adults tickets are $12.\")    \n",
    "        \n",
    "    want_photos = input(\"If you want some photos taken: Y or N\")\n",
    "    \n",
    "    if want_photos.upper() == 'Y':\n",
    "        # bill = bill + 3 or bill += 3\n",
    "        bill +=3\n",
    "    print(f\"Your final bill is ${bill}\")   \n",
    "\n",
    "else:\n",
    "    print(\"you can not ride a roallercoaster\")"
   ]
  },
  {
   "cell_type": "code",
   "execution_count": null,
   "metadata": {},
   "outputs": [],
   "source": [
    "\n",
    "# Love calculator"
   ]
  },
  {
   "cell_type": "code",
   "execution_count": null,
   "metadata": {},
   "outputs": [],
   "source": []
  },
  {
   "cell_type": "markdown",
   "metadata": {},
   "source": [
    "take both names \n",
    "check for the number of times the letter in the word TRUE occures \n",
    "check for the number of times the letter in the word LOVE occures \n",
    "Then combine these numbers to make a 2 digit number.\n",
    "\n",
    "For Love Scores less than 10 or greater than 90, the message should be:\n",
    "\"Your score is *x*, you go together like coke and mentos.\"\n",
    "\n",
    "For Love Scores between 40 and 50, the message should be:\n",
    "\"Your score is *y*, you are alright together.\"\n",
    "\n",
    "Otherwise, the message will just be their score. e.g.:\n",
    "\"Your score is *z*.\"\n",
    "\n",
    "e.g.\n",
    "\n",
    "name1 = \"Angela Yu\"\n",
    "name2 = \"Jack Bauer\"\n",
    "\n",
    "T occurs 0 times\n",
    "R occurs 1 time\n",
    "U occurs 2 times\n",
    "E occurs 2 times\n",
    "Total = 5\n",
    "\n",
    "L occurs 1 time\n",
    "O occurs 0 times\n",
    "V occurs 0 times\n",
    "E occurs 2 times\n",
    "\n",
    "Total = 3\n",
    "\n",
    "Love Score = 53\n",
    "\n",
    "Print: \"Your score is 53.\""
   ]
  },
  {
   "cell_type": "code",
   "execution_count": 17,
   "metadata": {},
   "outputs": [
    {
     "name": "stdout",
     "output_type": "stream",
     "text": [
      "bradpittjenifferanistopn\n",
      "7\n",
      "3\n",
      "73\n",
      "Your score is 73, you are alright together.\n"
     ]
    }
   ],
   "source": [
    "name1 = \"brad pitt\"\n",
    "name2 = \"jeniffer anistopn\"\n",
    "\n",
    "name_both = name1+name2\n",
    "n_b_s = name_both.replace(\" \", \"\")\n",
    "n_b_s_l = n_b_s.lower()\n",
    "print(n_b_s_l)\n",
    "\n",
    "t = n_b_s_l.count('t')\n",
    "r = n_b_s_l.count('r')\n",
    "u = n_b_s_l.count('u')\n",
    "e = n_b_s_l.count('e')\n",
    "#print(t,r,u,e)\n",
    "\n",
    "total_t = t+r+u+e\n",
    "print(total_t)\n",
    "\n",
    "l = n_b_s_l.count('l')\n",
    "o = n_b_s_l.count('o')\n",
    "v = n_b_s_l.count('v')\n",
    "e = n_b_s_l.count('e')\n",
    "     \n",
    "total_l = l+o+v+e\n",
    "print(total_l)    \n",
    "\n",
    "combine = int(str(total_t) + str(total_l))\n",
    "print(combine)\n",
    "    \n",
    "if (combine < 10) or (combine) > 90:\n",
    "     print(f\"Your score is {combine}, you go together like coke and mentos.\")           \n",
    "elif (combine >= 40) or (combine <= 50):\n",
    "     print(f\"Your score is {combine}, you are alright together.\")             \n",
    "else:\n",
    "    print(f\"Your score is {combine}\")    \n",
    "     "
   ]
  },
  {
   "cell_type": "code",
   "execution_count": 35,
   "metadata": {},
   "outputs": [
    {
     "name": "stdout",
     "output_type": "stream",
     "text": [
      "\n",
      "             .;';.\n",
      "         ';.  ';..;'  '\n",
      "           ';. '      ' .;'\n",
      "            .;' - =   .;'\n",
      "          .;',  ,  ,  ::\n",
      "        .;'.;'.;'.;' .;'\n",
      "      .;'.;'.;'.;' .;' \n",
      "      ';.';.';.';.;'\n",
      " \n",
      "Welcome to Treasure Island.\n",
      "Your mission is to find the treasure.\n",
      "left\n",
      "You win. You found the treasure!\n"
     ]
    }
   ],
   "source": [
    "print('''\n",
    "             .;';.\n",
    "         ';.  ';..;'  '\n",
    "           ';. '      ' .;'\n",
    "            .;' - =   .;'\n",
    "          .;',  ,  ,  ::\n",
    "        .;'.;'.;'.;' .;'\n",
    "      .;'.;'.;'.;' .;' \n",
    "      ';.';.';.';.;'\n",
    " ''' )\n",
    "\n",
    "name = input(\"What's your name?\")\n",
    "print(f\"Witaj {name}!\\n\")\n",
    "\n",
    "print(\"Welcome to Treasure Island.\")\n",
    "print(\"Your mission is to find the treasure.\")\n",
    "\n",
    "choice1 = input('You are at the crossroad, wherendo you want to go? Type \"left\" or \"right\".\\n').lower()\n",
    "print(choice1)\n",
    "                \n",
    "if choice1 == 'left':\n",
    "    choice2 = input('You have come to a lake. There is an island in the middle of the lake. Type \"wait\" to wait for a boat or \"swim\" to swim across.\\n').lower()\n",
    "    \n",
    "    if choice2 == 'wait':\n",
    "        choice3 = input('You arrive at the island unharmed. `there is a house with 3 doors. One red, one yellow and one blue. Which colour do you choose? Type \"red\" or \"blue\" or \"yellow\"\\n').lower()\n",
    "        \n",
    "        if choice3 == 'yellow':\n",
    "            print(\"You win. You found the treasure!\")\n",
    "        elif choice3 == 'blue':\n",
    "            print(\"You enter a room full of beasts. You are eaten by beasts. Game over\")\n",
    "        elif choice3 == 'red':\n",
    "            print(\"Burned by fire. Game over!\")    \n",
    "        else:\n",
    "            print(\"You choose a door that doesn't exist. Game over!\")       \n",
    "    else:\n",
    "        print(\"Game over!\")   \n",
    "else:\n",
    "    print(\"You lost. Game over!\")        \n",
    "                    \n",
    "dfsdfsdfsd"
   ]
  }
 ],
 "metadata": {
  "kernelspec": {
   "display_name": "Python 3",
   "language": "python",
   "name": "python3"
  },
  "language_info": {
   "codemirror_mode": {
    "name": "ipython",
    "version": 3
   },
   "file_extension": ".py",
   "mimetype": "text/x-python",
   "name": "python",
   "nbconvert_exporter": "python",
   "pygments_lexer": "ipython3",
   "version": "3.10.8"
  },
  "orig_nbformat": 4
 },
 "nbformat": 4,
 "nbformat_minor": 2
}
