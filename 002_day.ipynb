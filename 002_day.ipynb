{
 "cells": [
  {
   "cell_type": "code",
   "execution_count": null,
   "metadata": {},
   "outputs": [],
   "source": [
    "print(len(\"aaaa\"))"
   ]
  },
  {
   "cell_type": "code",
   "execution_count": 6,
   "metadata": {},
   "outputs": [
    {
     "name": "stdout",
     "output_type": "stream",
     "text": [
      "H\n",
      "o\n",
      "123456\n"
     ]
    }
   ],
   "source": [
    "# Data types\n",
    "\n",
    "# String\n",
    "#\"Hello\"\n",
    "\n",
    "# dsp first letter from index 0\n",
    "print(\"Hello\"[0])     # H\n",
    "print(\"Hello\"[4])     # o\n",
    "\n",
    "# \"text in ciapki\", always string\n",
    "\n",
    "print(\"123\" + \"456\")  # 12345\n",
    "\n"
   ]
  },
  {
   "cell_type": "code",
   "execution_count": 13,
   "metadata": {},
   "outputs": [
    {
     "name": "stdout",
     "output_type": "stream",
     "text": [
      "468\n",
      "101234228.45\n"
     ]
    }
   ],
   "source": [
    "#Number\n",
    "\n",
    "# integer\n",
    "\n",
    "print(123 + 345)    # it is calculated 468\n",
    "\n",
    "# large numbers - 123_456_678 >>> visual numbers, computer see it as 12345678\n",
    "\n",
    "# float\n",
    "\n",
    "f = 3.14  #float with point\n",
    "f\n",
    "\n",
    "# boolean \n",
    "True\n",
    "False \n",
    "\n",
    "\n",
    "# float \n",
    "a = 1_234_235.45\n",
    "b = 99999993\n",
    "print(a+b)\n",
    "\n"
   ]
  },
  {
   "cell_type": "code",
   "execution_count": 14,
   "metadata": {},
   "outputs": [
    {
     "ename": "TypeError",
     "evalue": "object of type 'int' has no len()",
     "output_type": "error",
     "traceback": [
      "\u001b[0;31m---------------------------------------------------------------------------\u001b[0m",
      "\u001b[0;31mTypeError\u001b[0m                                 Traceback (most recent call last)",
      "\u001b[1;32m/Users/iaska/github clones/pythonapps/100daysofcoding/002_day.ipynb Komórka 4\u001b[0m in \u001b[0;36m1\n\u001b[0;32m----> <a href='vscode-notebook-cell:/Users/iaska/github%20clones/pythonapps/100daysofcoding/002_day.ipynb#W3sZmlsZQ%3D%3D?line=0'>1</a>\u001b[0m \u001b[39mlen\u001b[39;49m(\u001b[39m12344\u001b[39;49m)\n",
      "\u001b[0;31mTypeError\u001b[0m: object of type 'int' has no len()"
     ]
    }
   ],
   "source": [
    "len(12344)  # error >>>> object of type 'int' has no len()"
   ]
  },
  {
   "cell_type": "code",
   "execution_count": 23,
   "metadata": {},
   "outputs": [
    {
     "name": "stdout",
     "output_type": "stream",
     "text": [
      "your name has:  9\n",
      "your name has: 9chars\n"
     ]
    },
    {
     "data": {
      "text/plain": [
       "str"
      ]
     },
     "execution_count": 23,
     "metadata": {},
     "output_type": "execute_result"
    }
   ],
   "source": [
    "num_char  = len(input(\"what your name?\"))\n",
    "print(\"your name has: \", num_char)\n",
    "#print(\"your name has: \" + num_char + \"chars\") >>>> # error: TypeError: can only concatenate str (not \"int\") to str\n",
    "\n",
    "new_num_char = str(num_char)\n",
    "\n",
    "print(\"your name has: \" + new_num_char + \"chars\")  # after conversion we have string"
   ]
  },
  {
   "cell_type": "code",
   "execution_count": 27,
   "metadata": {},
   "outputs": [
    {
     "name": "stdout",
     "output_type": "stream",
     "text": [
      "<class 'str'>\n",
      "7035.0\n",
      "70100.5\n"
     ]
    }
   ],
   "source": [
    "a = str(123)\n",
    "print(type(a))\n",
    "\n",
    "print(70 * float(\"100.5\"))\n",
    "\n",
    "print(str(70) + str(100.5))"
   ]
  },
  {
   "cell_type": "code",
   "execution_count": 39,
   "metadata": {},
   "outputs": [
    {
     "name": "stdout",
     "output_type": "stream",
     "text": [
      "1 + 0 =  1\n",
      "1\n"
     ]
    }
   ],
   "source": [
    "#Write a program that adds the digits in a 2 digit number. e.g. if the input was 35, then the output should be 3 + 5 = 8\n",
    "#Warning. Do not change the code on lines 1-3. Your program should work for different inputs. e.g. any two-digit number.\n",
    "\n",
    "\n",
    "# 🚨 Don't change the code below 👇\n",
    "two_digit_number = input(\"Type a two digit number: \")\n",
    "# 🚨 Don't change the code above 👆\n",
    "\n",
    "####################################\n",
    "#Write your code below this line 👇\n",
    "\n",
    "# print(type(two_digit_number ))\n",
    "\n",
    "first = two_digit_number[0]\n",
    "sec = two_digit_number[1]\n",
    "\n",
    "print(first + \" + \" + sec + \" = \", str(int(first)+int(sec)))\n",
    "print(int(first)+int(sec))\n"
   ]
  },
  {
   "cell_type": "code",
   "execution_count": null,
   "metadata": {},
   "outputs": [],
   "source": [
    "#Write a program that adds the digits in a 2 digit number. e.g. if the input was 35, then the output should be 3 + 5 = 8\n",
    "#Warning. Do not change the code on lines 1-3. Your program should work for different inputs. e.g. any two-digit number.\n",
    "\n",
    "\n",
    "# 🚨 Don't change the code below 👇\n",
    "two_digit_number = input(\"Type a two digit number: \")\n",
    "# 🚨 Don't change the code above 👆\n",
    "\n",
    "####################################\n",
    "#Write your code below this line 👇\n",
    "\n",
    "\n",
    "first = two_digit_number[0]\n",
    "sec = two_digit_number[1]\n",
    "\n",
    "result = int(first) + int(sec)\n",
    "\n",
    "print(result)\n"
   ]
  },
  {
   "cell_type": "code",
   "execution_count": 43,
   "metadata": {},
   "outputs": [
    {
     "name": "stdout",
     "output_type": "stream",
     "text": [
      "<class 'float'>\n",
      "16\n"
     ]
    }
   ],
   "source": [
    "# always float '/'\n",
    "\n",
    "print(type(6/3))\n",
    "\n",
    "print(2**4)     # 2*2*2*2  2 do potegi\n",
    "\n",
    "\n",
    "\n"
   ]
  },
  {
   "cell_type": "code",
   "execution_count": null,
   "metadata": {},
   "outputs": [],
   "source": [
    " \"\"\" \n",
    "\n",
    "PEMDAS - LR (left to right)\n",
    "() Parentheses\n",
    "** Exponents\n",
    "* Multiplication\n",
    "/ Division\n",
    "+ Addition\n",
    "- Substraction \n",
    "\n",
    "order:\n",
    "    \n",
    "    ()\n",
    "    **\n",
    "    * /\n",
    "    + - \n",
    " \"\"\""
   ]
  },
  {
   "cell_type": "code",
   "execution_count": 44,
   "metadata": {},
   "outputs": [
    {
     "name": "stdout",
     "output_type": "stream",
     "text": [
      "7.0\n"
     ]
    }
   ],
   "source": [
    "print(3 * 3 + 3 / 3 -3 )\n",
    "\n",
    "\"\"\" \n",
    "9 + 1 - 3 \n",
    "10-3\n",
    "7 \n",
    "\"\"\""
   ]
  },
  {
   "cell_type": "code",
   "execution_count": 53,
   "metadata": {},
   "outputs": [
    {
     "name": "stdout",
     "output_type": "stream",
     "text": [
      "3.0\n"
     ]
    }
   ],
   "source": [
    "print(3 * (3 + 3) / 3 -3)\n",
    "\n"
   ]
  },
  {
   "cell_type": "code",
   "execution_count": 1,
   "metadata": {},
   "outputs": [
    {
     "name": "stdout",
     "output_type": "stream",
     "text": [
      "28\n"
     ]
    }
   ],
   "source": [
    "# 🚨 Don't change the code below 👇\n",
    "height = input(\"enter your height in m: \")\n",
    "weight = input(\"enter your weight in kg: \")\n",
    "# 🚨 Don't change the code above 👆\n",
    "\n",
    "\n",
    "\n",
    "\n",
    "#Write your code below this line 👇\n",
    "\n",
    "# print(type(height))\n",
    "# print(type(weight))\n",
    "\n",
    "i_h = float(height)\n",
    "i_w = int(weight)\n",
    "\n",
    "# print(type(i_h))\n",
    "# print(type(i_w))\n",
    "\n",
    "bmi = i_w/(i_h * i_h)\n",
    "print(int(bmi))"
   ]
  },
  {
   "cell_type": "code",
   "execution_count": 2,
   "metadata": {},
   "outputs": [
    {
     "name": "stdout",
     "output_type": "stream",
     "text": [
      "28\n"
     ]
    }
   ],
   "source": [
    "# better way \n",
    "\n",
    "bmi = (int(weight)) / float(height) ** 2\n",
    "bmi_as_int = int(bmi)\n",
    "print(bmi_as_int)"
   ]
  },
  {
   "cell_type": "code",
   "execution_count": null,
   "metadata": {},
   "outputs": [],
   "source": []
  },
  {
   "cell_type": "code",
   "execution_count": null,
   "metadata": {},
   "outputs": [],
   "source": []
  }
 ],
 "metadata": {
  "kernelspec": {
   "display_name": "Python 3",
   "language": "python",
   "name": "python3"
  },
  "language_info": {
   "codemirror_mode": {
    "name": "ipython",
    "version": 3
   },
   "file_extension": ".py",
   "mimetype": "text/x-python",
   "name": "python",
   "nbconvert_exporter": "python",
   "pygments_lexer": "ipython3",
   "version": "3.10.8"
  },
  "orig_nbformat": 4
 },
 "nbformat": 4,
 "nbformat_minor": 2
}
