{
 "cells": [
  {
   "cell_type": "code",
   "execution_count": 10,
   "metadata": {},
   "outputs": [
    {
     "name": "stdout",
     "output_type": "stream",
     "text": [
      "3.14159246\n",
      "0.12260781418777644\n",
      "Yuou love score 45\n"
     ]
    }
   ],
   "source": [
    "import random\n",
    "import my_module\n",
    "\n",
    "# generowanie int between \n",
    "\n",
    "random_integer = random.randint(1,10)\n",
    "random_integer\n",
    "\n",
    "print(my_module.pi)\n",
    "\n",
    "# 0.0000 - 0.999999 - tak domyslnie generuje \n",
    "random_float = random.random()\n",
    "print(random_float)\n",
    "\n",
    "randomFloat = random_float*5\n",
    "\n",
    "love_score = random.randint(1,100)\n",
    "print(f\"Yuou love score {love_score}\")\n",
    "\n"
   ]
  },
  {
   "cell_type": "code",
   "execution_count": null,
   "metadata": {},
   "outputs": [],
   "source": []
  },
  {
   "cell_type": "code",
   "execution_count": null,
   "metadata": {},
   "outputs": [],
   "source": []
  }
 ],
 "metadata": {
  "kernelspec": {
   "display_name": "Python 3",
   "language": "python",
   "name": "python3"
  },
  "language_info": {
   "codemirror_mode": {
    "name": "ipython",
    "version": 3
   },
   "file_extension": ".py",
   "mimetype": "text/x-python",
   "name": "python",
   "nbconvert_exporter": "python",
   "pygments_lexer": "ipython3",
   "version": "3.10.8"
  },
  "orig_nbformat": 4
 },
 "nbformat": 4,
 "nbformat_minor": 2
}
